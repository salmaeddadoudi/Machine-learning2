{
 "cells": [
  {
   "cell_type": "code",
   "execution_count": 1,
   "id": "06482707",
   "metadata": {
    "execution": {
     "iopub.execute_input": "2023-01-19T20:45:52.421586Z",
     "iopub.status.busy": "2023-01-19T20:45:52.420791Z",
     "iopub.status.idle": "2023-01-19T20:45:58.811945Z",
     "shell.execute_reply": "2023-01-19T20:45:58.810752Z"
    },
    "papermill": {
     "duration": 6.404214,
     "end_time": "2023-01-19T20:45:58.814759",
     "exception": false,
     "start_time": "2023-01-19T20:45:52.410545",
     "status": "completed"
    },
    "tags": []
   },
   "outputs": [
    {
     "name": "stdout",
     "output_type": "stream",
     "text": [
      "2.6.4\n"
     ]
    }
   ],
   "source": [
    "import numpy as np \n",
    "import pandas as pd \n",
    "import matplotlib.pyplot as plt\n",
    "%matplotlib inline\n",
    "\n",
    "import tensorflow as tf\n",
    "\n",
    "import numpy as np\n",
    "import matplotlib.pyplot as plt\n",
    "print(tf.__version__)\n",
    "\n",
    "import warnings\n",
    "warnings.filterwarnings('ignore')"
   ]
  },
  {
   "cell_type": "markdown",
   "id": "380b62db",
   "metadata": {
    "papermill": {
     "duration": 0.006428,
     "end_time": "2023-01-19T20:45:58.828285",
     "exception": false,
     "start_time": "2023-01-19T20:45:58.821857",
     "status": "completed"
    },
    "tags": []
   },
   "source": [
    "## Importing Data \n"
   ]
  },
  {
   "cell_type": "code",
   "execution_count": 2,
   "id": "6864d475",
   "metadata": {
    "execution": {
     "iopub.execute_input": "2023-01-19T20:45:58.843777Z",
     "iopub.status.busy": "2023-01-19T20:45:58.843086Z",
     "iopub.status.idle": "2023-01-19T20:46:04.751255Z",
     "shell.execute_reply": "2023-01-19T20:46:04.749734Z"
    },
    "papermill": {
     "duration": 5.919476,
     "end_time": "2023-01-19T20:46:04.754449",
     "exception": false,
     "start_time": "2023-01-19T20:45:58.834973",
     "status": "completed"
    },
    "tags": []
   },
   "outputs": [
    {
     "name": "stdout",
     "output_type": "stream",
     "text": [
      "(42000, 785) (28000, 784) (28000, 2)\n"
     ]
    }
   ],
   "source": [
    "train = pd.read_csv('../input/digit-recognizer/train.csv')\n",
    "test = pd.read_csv('../input/digit-recognizer/test.csv')\n",
    "ss = pd.read_csv('../input/digit-recognizer/sample_submission.csv')\n",
    "print(train.shape, test.shape,ss.shape)"
   ]
  },
  {
   "cell_type": "markdown",
   "id": "5731977a",
   "metadata": {
    "papermill": {
     "duration": 0.006691,
     "end_time": "2023-01-19T20:46:04.768307",
     "exception": false,
     "start_time": "2023-01-19T20:46:04.761616",
     "status": "completed"
    },
    "tags": []
   },
   "source": [
    "## Data analysis"
   ]
  },
  {
   "cell_type": "code",
   "execution_count": 3,
   "id": "949eba84",
   "metadata": {
    "execution": {
     "iopub.execute_input": "2023-01-19T20:46:04.783744Z",
     "iopub.status.busy": "2023-01-19T20:46:04.783122Z",
     "iopub.status.idle": "2023-01-19T20:46:04.809946Z",
     "shell.execute_reply": "2023-01-19T20:46:04.808749Z"
    },
    "papermill": {
     "duration": 0.037173,
     "end_time": "2023-01-19T20:46:04.812240",
     "exception": false,
     "start_time": "2023-01-19T20:46:04.775067",
     "status": "completed"
    },
    "tags": []
   },
   "outputs": [
    {
     "data": {
      "text/html": [
       "<div>\n",
       "<style scoped>\n",
       "    .dataframe tbody tr th:only-of-type {\n",
       "        vertical-align: middle;\n",
       "    }\n",
       "\n",
       "    .dataframe tbody tr th {\n",
       "        vertical-align: top;\n",
       "    }\n",
       "\n",
       "    .dataframe thead th {\n",
       "        text-align: right;\n",
       "    }\n",
       "</style>\n",
       "<table border=\"1\" class=\"dataframe\">\n",
       "  <thead>\n",
       "    <tr style=\"text-align: right;\">\n",
       "      <th></th>\n",
       "      <th>label</th>\n",
       "      <th>pixel0</th>\n",
       "      <th>pixel1</th>\n",
       "      <th>pixel2</th>\n",
       "      <th>pixel3</th>\n",
       "      <th>pixel4</th>\n",
       "      <th>pixel5</th>\n",
       "      <th>pixel6</th>\n",
       "      <th>pixel7</th>\n",
       "      <th>pixel8</th>\n",
       "      <th>...</th>\n",
       "      <th>pixel774</th>\n",
       "      <th>pixel775</th>\n",
       "      <th>pixel776</th>\n",
       "      <th>pixel777</th>\n",
       "      <th>pixel778</th>\n",
       "      <th>pixel779</th>\n",
       "      <th>pixel780</th>\n",
       "      <th>pixel781</th>\n",
       "      <th>pixel782</th>\n",
       "      <th>pixel783</th>\n",
       "    </tr>\n",
       "  </thead>\n",
       "  <tbody>\n",
       "    <tr>\n",
       "      <th>0</th>\n",
       "      <td>1</td>\n",
       "      <td>0</td>\n",
       "      <td>0</td>\n",
       "      <td>0</td>\n",
       "      <td>0</td>\n",
       "      <td>0</td>\n",
       "      <td>0</td>\n",
       "      <td>0</td>\n",
       "      <td>0</td>\n",
       "      <td>0</td>\n",
       "      <td>...</td>\n",
       "      <td>0</td>\n",
       "      <td>0</td>\n",
       "      <td>0</td>\n",
       "      <td>0</td>\n",
       "      <td>0</td>\n",
       "      <td>0</td>\n",
       "      <td>0</td>\n",
       "      <td>0</td>\n",
       "      <td>0</td>\n",
       "      <td>0</td>\n",
       "    </tr>\n",
       "    <tr>\n",
       "      <th>1</th>\n",
       "      <td>0</td>\n",
       "      <td>0</td>\n",
       "      <td>0</td>\n",
       "      <td>0</td>\n",
       "      <td>0</td>\n",
       "      <td>0</td>\n",
       "      <td>0</td>\n",
       "      <td>0</td>\n",
       "      <td>0</td>\n",
       "      <td>0</td>\n",
       "      <td>...</td>\n",
       "      <td>0</td>\n",
       "      <td>0</td>\n",
       "      <td>0</td>\n",
       "      <td>0</td>\n",
       "      <td>0</td>\n",
       "      <td>0</td>\n",
       "      <td>0</td>\n",
       "      <td>0</td>\n",
       "      <td>0</td>\n",
       "      <td>0</td>\n",
       "    </tr>\n",
       "    <tr>\n",
       "      <th>2</th>\n",
       "      <td>1</td>\n",
       "      <td>0</td>\n",
       "      <td>0</td>\n",
       "      <td>0</td>\n",
       "      <td>0</td>\n",
       "      <td>0</td>\n",
       "      <td>0</td>\n",
       "      <td>0</td>\n",
       "      <td>0</td>\n",
       "      <td>0</td>\n",
       "      <td>...</td>\n",
       "      <td>0</td>\n",
       "      <td>0</td>\n",
       "      <td>0</td>\n",
       "      <td>0</td>\n",
       "      <td>0</td>\n",
       "      <td>0</td>\n",
       "      <td>0</td>\n",
       "      <td>0</td>\n",
       "      <td>0</td>\n",
       "      <td>0</td>\n",
       "    </tr>\n",
       "    <tr>\n",
       "      <th>3</th>\n",
       "      <td>4</td>\n",
       "      <td>0</td>\n",
       "      <td>0</td>\n",
       "      <td>0</td>\n",
       "      <td>0</td>\n",
       "      <td>0</td>\n",
       "      <td>0</td>\n",
       "      <td>0</td>\n",
       "      <td>0</td>\n",
       "      <td>0</td>\n",
       "      <td>...</td>\n",
       "      <td>0</td>\n",
       "      <td>0</td>\n",
       "      <td>0</td>\n",
       "      <td>0</td>\n",
       "      <td>0</td>\n",
       "      <td>0</td>\n",
       "      <td>0</td>\n",
       "      <td>0</td>\n",
       "      <td>0</td>\n",
       "      <td>0</td>\n",
       "    </tr>\n",
       "    <tr>\n",
       "      <th>4</th>\n",
       "      <td>0</td>\n",
       "      <td>0</td>\n",
       "      <td>0</td>\n",
       "      <td>0</td>\n",
       "      <td>0</td>\n",
       "      <td>0</td>\n",
       "      <td>0</td>\n",
       "      <td>0</td>\n",
       "      <td>0</td>\n",
       "      <td>0</td>\n",
       "      <td>...</td>\n",
       "      <td>0</td>\n",
       "      <td>0</td>\n",
       "      <td>0</td>\n",
       "      <td>0</td>\n",
       "      <td>0</td>\n",
       "      <td>0</td>\n",
       "      <td>0</td>\n",
       "      <td>0</td>\n",
       "      <td>0</td>\n",
       "      <td>0</td>\n",
       "    </tr>\n",
       "  </tbody>\n",
       "</table>\n",
       "<p>5 rows × 785 columns</p>\n",
       "</div>"
      ],
      "text/plain": [
       "   label  pixel0  pixel1  pixel2  pixel3  pixel4  pixel5  pixel6  pixel7  \\\n",
       "0      1       0       0       0       0       0       0       0       0   \n",
       "1      0       0       0       0       0       0       0       0       0   \n",
       "2      1       0       0       0       0       0       0       0       0   \n",
       "3      4       0       0       0       0       0       0       0       0   \n",
       "4      0       0       0       0       0       0       0       0       0   \n",
       "\n",
       "   pixel8  ...  pixel774  pixel775  pixel776  pixel777  pixel778  pixel779  \\\n",
       "0       0  ...         0         0         0         0         0         0   \n",
       "1       0  ...         0         0         0         0         0         0   \n",
       "2       0  ...         0         0         0         0         0         0   \n",
       "3       0  ...         0         0         0         0         0         0   \n",
       "4       0  ...         0         0         0         0         0         0   \n",
       "\n",
       "   pixel780  pixel781  pixel782  pixel783  \n",
       "0         0         0         0         0  \n",
       "1         0         0         0         0  \n",
       "2         0         0         0         0  \n",
       "3         0         0         0         0  \n",
       "4         0         0         0         0  \n",
       "\n",
       "[5 rows x 785 columns]"
      ]
     },
     "execution_count": 3,
     "metadata": {},
     "output_type": "execute_result"
    }
   ],
   "source": [
    "train.head()"
   ]
  },
  {
   "cell_type": "code",
   "execution_count": 4,
   "id": "ede54346",
   "metadata": {
    "execution": {
     "iopub.execute_input": "2023-01-19T20:46:04.830024Z",
     "iopub.status.busy": "2023-01-19T20:46:04.829616Z",
     "iopub.status.idle": "2023-01-19T20:46:04.847379Z",
     "shell.execute_reply": "2023-01-19T20:46:04.846329Z"
    },
    "papermill": {
     "duration": 0.030072,
     "end_time": "2023-01-19T20:46:04.849718",
     "exception": false,
     "start_time": "2023-01-19T20:46:04.819646",
     "status": "completed"
    },
    "tags": []
   },
   "outputs": [
    {
     "data": {
      "text/html": [
       "<div>\n",
       "<style scoped>\n",
       "    .dataframe tbody tr th:only-of-type {\n",
       "        vertical-align: middle;\n",
       "    }\n",
       "\n",
       "    .dataframe tbody tr th {\n",
       "        vertical-align: top;\n",
       "    }\n",
       "\n",
       "    .dataframe thead th {\n",
       "        text-align: right;\n",
       "    }\n",
       "</style>\n",
       "<table border=\"1\" class=\"dataframe\">\n",
       "  <thead>\n",
       "    <tr style=\"text-align: right;\">\n",
       "      <th></th>\n",
       "      <th>pixel0</th>\n",
       "      <th>pixel1</th>\n",
       "      <th>pixel2</th>\n",
       "      <th>pixel3</th>\n",
       "      <th>pixel4</th>\n",
       "      <th>pixel5</th>\n",
       "      <th>pixel6</th>\n",
       "      <th>pixel7</th>\n",
       "      <th>pixel8</th>\n",
       "      <th>pixel9</th>\n",
       "      <th>...</th>\n",
       "      <th>pixel774</th>\n",
       "      <th>pixel775</th>\n",
       "      <th>pixel776</th>\n",
       "      <th>pixel777</th>\n",
       "      <th>pixel778</th>\n",
       "      <th>pixel779</th>\n",
       "      <th>pixel780</th>\n",
       "      <th>pixel781</th>\n",
       "      <th>pixel782</th>\n",
       "      <th>pixel783</th>\n",
       "    </tr>\n",
       "  </thead>\n",
       "  <tbody>\n",
       "    <tr>\n",
       "      <th>0</th>\n",
       "      <td>0</td>\n",
       "      <td>0</td>\n",
       "      <td>0</td>\n",
       "      <td>0</td>\n",
       "      <td>0</td>\n",
       "      <td>0</td>\n",
       "      <td>0</td>\n",
       "      <td>0</td>\n",
       "      <td>0</td>\n",
       "      <td>0</td>\n",
       "      <td>...</td>\n",
       "      <td>0</td>\n",
       "      <td>0</td>\n",
       "      <td>0</td>\n",
       "      <td>0</td>\n",
       "      <td>0</td>\n",
       "      <td>0</td>\n",
       "      <td>0</td>\n",
       "      <td>0</td>\n",
       "      <td>0</td>\n",
       "      <td>0</td>\n",
       "    </tr>\n",
       "    <tr>\n",
       "      <th>1</th>\n",
       "      <td>0</td>\n",
       "      <td>0</td>\n",
       "      <td>0</td>\n",
       "      <td>0</td>\n",
       "      <td>0</td>\n",
       "      <td>0</td>\n",
       "      <td>0</td>\n",
       "      <td>0</td>\n",
       "      <td>0</td>\n",
       "      <td>0</td>\n",
       "      <td>...</td>\n",
       "      <td>0</td>\n",
       "      <td>0</td>\n",
       "      <td>0</td>\n",
       "      <td>0</td>\n",
       "      <td>0</td>\n",
       "      <td>0</td>\n",
       "      <td>0</td>\n",
       "      <td>0</td>\n",
       "      <td>0</td>\n",
       "      <td>0</td>\n",
       "    </tr>\n",
       "    <tr>\n",
       "      <th>2</th>\n",
       "      <td>0</td>\n",
       "      <td>0</td>\n",
       "      <td>0</td>\n",
       "      <td>0</td>\n",
       "      <td>0</td>\n",
       "      <td>0</td>\n",
       "      <td>0</td>\n",
       "      <td>0</td>\n",
       "      <td>0</td>\n",
       "      <td>0</td>\n",
       "      <td>...</td>\n",
       "      <td>0</td>\n",
       "      <td>0</td>\n",
       "      <td>0</td>\n",
       "      <td>0</td>\n",
       "      <td>0</td>\n",
       "      <td>0</td>\n",
       "      <td>0</td>\n",
       "      <td>0</td>\n",
       "      <td>0</td>\n",
       "      <td>0</td>\n",
       "    </tr>\n",
       "    <tr>\n",
       "      <th>3</th>\n",
       "      <td>0</td>\n",
       "      <td>0</td>\n",
       "      <td>0</td>\n",
       "      <td>0</td>\n",
       "      <td>0</td>\n",
       "      <td>0</td>\n",
       "      <td>0</td>\n",
       "      <td>0</td>\n",
       "      <td>0</td>\n",
       "      <td>0</td>\n",
       "      <td>...</td>\n",
       "      <td>0</td>\n",
       "      <td>0</td>\n",
       "      <td>0</td>\n",
       "      <td>0</td>\n",
       "      <td>0</td>\n",
       "      <td>0</td>\n",
       "      <td>0</td>\n",
       "      <td>0</td>\n",
       "      <td>0</td>\n",
       "      <td>0</td>\n",
       "    </tr>\n",
       "    <tr>\n",
       "      <th>4</th>\n",
       "      <td>0</td>\n",
       "      <td>0</td>\n",
       "      <td>0</td>\n",
       "      <td>0</td>\n",
       "      <td>0</td>\n",
       "      <td>0</td>\n",
       "      <td>0</td>\n",
       "      <td>0</td>\n",
       "      <td>0</td>\n",
       "      <td>0</td>\n",
       "      <td>...</td>\n",
       "      <td>0</td>\n",
       "      <td>0</td>\n",
       "      <td>0</td>\n",
       "      <td>0</td>\n",
       "      <td>0</td>\n",
       "      <td>0</td>\n",
       "      <td>0</td>\n",
       "      <td>0</td>\n",
       "      <td>0</td>\n",
       "      <td>0</td>\n",
       "    </tr>\n",
       "  </tbody>\n",
       "</table>\n",
       "<p>5 rows × 784 columns</p>\n",
       "</div>"
      ],
      "text/plain": [
       "   pixel0  pixel1  pixel2  pixel3  pixel4  pixel5  pixel6  pixel7  pixel8  \\\n",
       "0       0       0       0       0       0       0       0       0       0   \n",
       "1       0       0       0       0       0       0       0       0       0   \n",
       "2       0       0       0       0       0       0       0       0       0   \n",
       "3       0       0       0       0       0       0       0       0       0   \n",
       "4       0       0       0       0       0       0       0       0       0   \n",
       "\n",
       "   pixel9  ...  pixel774  pixel775  pixel776  pixel777  pixel778  pixel779  \\\n",
       "0       0  ...         0         0         0         0         0         0   \n",
       "1       0  ...         0         0         0         0         0         0   \n",
       "2       0  ...         0         0         0         0         0         0   \n",
       "3       0  ...         0         0         0         0         0         0   \n",
       "4       0  ...         0         0         0         0         0         0   \n",
       "\n",
       "   pixel780  pixel781  pixel782  pixel783  \n",
       "0         0         0         0         0  \n",
       "1         0         0         0         0  \n",
       "2         0         0         0         0  \n",
       "3         0         0         0         0  \n",
       "4         0         0         0         0  \n",
       "\n",
       "[5 rows x 784 columns]"
      ]
     },
     "execution_count": 4,
     "metadata": {},
     "output_type": "execute_result"
    }
   ],
   "source": [
    "test.head()"
   ]
  },
  {
   "cell_type": "code",
   "execution_count": 5,
   "id": "96236032",
   "metadata": {
    "execution": {
     "iopub.execute_input": "2023-01-19T20:46:04.867451Z",
     "iopub.status.busy": "2023-01-19T20:46:04.867074Z",
     "iopub.status.idle": "2023-01-19T20:46:04.923122Z",
     "shell.execute_reply": "2023-01-19T20:46:04.921784Z"
    },
    "papermill": {
     "duration": 0.068208,
     "end_time": "2023-01-19T20:46:04.925699",
     "exception": false,
     "start_time": "2023-01-19T20:46:04.857491",
     "status": "completed"
    },
    "tags": []
   },
   "outputs": [
    {
     "name": "stdout",
     "output_type": "stream",
     "text": [
      "<class 'pandas.core.frame.DataFrame'>\n",
      "RangeIndex: 42000 entries, 0 to 41999\n",
      "Columns: 785 entries, label to pixel783\n",
      "dtypes: int64(785)\n",
      "memory usage: 251.5 MB\n"
     ]
    }
   ],
   "source": [
    "train.info()"
   ]
  },
  {
   "cell_type": "code",
   "execution_count": 6,
   "id": "e67cbbfc",
   "metadata": {
    "execution": {
     "iopub.execute_input": "2023-01-19T20:46:04.942376Z",
     "iopub.status.busy": "2023-01-19T20:46:04.941986Z",
     "iopub.status.idle": "2023-01-19T20:46:04.988370Z",
     "shell.execute_reply": "2023-01-19T20:46:04.987095Z"
    },
    "papermill": {
     "duration": 0.057788,
     "end_time": "2023-01-19T20:46:04.991005",
     "exception": false,
     "start_time": "2023-01-19T20:46:04.933217",
     "status": "completed"
    },
    "tags": []
   },
   "outputs": [
    {
     "name": "stdout",
     "output_type": "stream",
     "text": [
      "<class 'pandas.core.frame.DataFrame'>\n",
      "RangeIndex: 28000 entries, 0 to 27999\n",
      "Columns: 784 entries, pixel0 to pixel783\n",
      "dtypes: int64(784)\n",
      "memory usage: 167.5 MB\n"
     ]
    }
   ],
   "source": [
    "test.info()"
   ]
  },
  {
   "cell_type": "code",
   "execution_count": 7,
   "id": "97079449",
   "metadata": {
    "execution": {
     "iopub.execute_input": "2023-01-19T20:46:05.008426Z",
     "iopub.status.busy": "2023-01-19T20:46:05.008049Z",
     "iopub.status.idle": "2023-01-19T20:46:05.026762Z",
     "shell.execute_reply": "2023-01-19T20:46:05.025566Z"
    },
    "papermill": {
     "duration": 0.030316,
     "end_time": "2023-01-19T20:46:05.029135",
     "exception": false,
     "start_time": "2023-01-19T20:46:04.998819",
     "status": "completed"
    },
    "tags": []
   },
   "outputs": [
    {
     "data": {
      "text/plain": [
       "0"
      ]
     },
     "execution_count": 7,
     "metadata": {},
     "output_type": "execute_result"
    }
   ],
   "source": [
    "train.isna().any().sum()"
   ]
  },
  {
   "cell_type": "code",
   "execution_count": 8,
   "id": "58860f21",
   "metadata": {
    "execution": {
     "iopub.execute_input": "2023-01-19T20:46:05.046586Z",
     "iopub.status.busy": "2023-01-19T20:46:05.046197Z",
     "iopub.status.idle": "2023-01-19T20:46:05.064806Z",
     "shell.execute_reply": "2023-01-19T20:46:05.063569Z"
    },
    "papermill": {
     "duration": 0.030179,
     "end_time": "2023-01-19T20:46:05.067232",
     "exception": false,
     "start_time": "2023-01-19T20:46:05.037053",
     "status": "completed"
    },
    "tags": []
   },
   "outputs": [
    {
     "data": {
      "text/plain": [
       "0"
      ]
     },
     "execution_count": 8,
     "metadata": {},
     "output_type": "execute_result"
    }
   ],
   "source": [
    "train.isna().any().sum()"
   ]
  },
  {
   "cell_type": "markdown",
   "id": "f1b468d9",
   "metadata": {
    "papermill": {
     "duration": 0.007694,
     "end_time": "2023-01-19T20:46:05.082801",
     "exception": false,
     "start_time": "2023-01-19T20:46:05.075107",
     "status": "completed"
    },
    "tags": []
   },
   "source": [
    "## "
   ]
  },
  {
   "cell_type": "code",
   "execution_count": 9,
   "id": "5649a8bb",
   "metadata": {
    "execution": {
     "iopub.execute_input": "2023-01-19T20:46:05.099911Z",
     "iopub.status.busy": "2023-01-19T20:46:05.099492Z",
     "iopub.status.idle": "2023-01-19T20:46:05.211633Z",
     "shell.execute_reply": "2023-01-19T20:46:05.210603Z"
    },
    "papermill": {
     "duration": 0.12332,
     "end_time": "2023-01-19T20:46:05.213920",
     "exception": false,
     "start_time": "2023-01-19T20:46:05.090600",
     "status": "completed"
    },
    "tags": []
   },
   "outputs": [],
   "source": [
    "X_train = train.drop('label',axis=1)\n",
    "Y_train = train['label']\n",
    "X_test = test"
   ]
  },
  {
   "cell_type": "code",
   "execution_count": 10,
   "id": "f543b959",
   "metadata": {
    "execution": {
     "iopub.execute_input": "2023-01-19T20:46:05.231906Z",
     "iopub.status.busy": "2023-01-19T20:46:05.231463Z",
     "iopub.status.idle": "2023-01-19T20:46:05.236308Z",
     "shell.execute_reply": "2023-01-19T20:46:05.235232Z"
    },
    "papermill": {
     "duration": 0.016629,
     "end_time": "2023-01-19T20:46:05.238718",
     "exception": false,
     "start_time": "2023-01-19T20:46:05.222089",
     "status": "completed"
    },
    "tags": []
   },
   "outputs": [],
   "source": [
    "X_train=X_train.to_numpy()\n",
    "X_test=X_test.to_numpy()"
   ]
  },
  {
   "cell_type": "code",
   "execution_count": 11,
   "id": "cd337619",
   "metadata": {
    "execution": {
     "iopub.execute_input": "2023-01-19T20:46:05.256325Z",
     "iopub.status.busy": "2023-01-19T20:46:05.255913Z",
     "iopub.status.idle": "2023-01-19T20:46:05.261825Z",
     "shell.execute_reply": "2023-01-19T20:46:05.261029Z"
    },
    "papermill": {
     "duration": 0.017066,
     "end_time": "2023-01-19T20:46:05.263850",
     "exception": false,
     "start_time": "2023-01-19T20:46:05.246784",
     "status": "completed"
    },
    "tags": []
   },
   "outputs": [
    {
     "name": "stdout",
     "output_type": "stream",
     "text": [
      "(42000, 28, 28) (28000, 28, 28)\n"
     ]
    }
   ],
   "source": [
    "X_train=X_train.reshape((len(X_train),28,28))\n",
    "X_test=X_test.reshape((len(X_test),28,28))\n",
    "print(X_train.shape, X_test.shape)"
   ]
  },
  {
   "cell_type": "code",
   "execution_count": 12,
   "id": "bcb8ea06",
   "metadata": {
    "execution": {
     "iopub.execute_input": "2023-01-19T20:46:05.281480Z",
     "iopub.status.busy": "2023-01-19T20:46:05.281068Z",
     "iopub.status.idle": "2023-01-19T20:46:05.738691Z",
     "shell.execute_reply": "2023-01-19T20:46:05.737604Z"
    },
    "papermill": {
     "duration": 0.469293,
     "end_time": "2023-01-19T20:46:05.741309",
     "exception": false,
     "start_time": "2023-01-19T20:46:05.272016",
     "status": "completed"
    },
    "tags": []
   },
   "outputs": [
    {
     "data": {
      "image/png": "[encoded data removed]",
      "text/plain": [
       "<Figure size 432x288 with 2 Axes>"
      ]
     },
     "metadata": {
      "needs_background": "light"
     },
     "output_type": "display_data"
    }
   ],
   "source": [
    "plt.figure()\n",
    "plt.imshow(X_train[5])\n",
    "plt.colorbar()\n",
    "plt.grid(False)\n",
    "plt.show()"
   ]
  },
  {
   "cell_type": "code",
   "execution_count": 13,
   "id": "6e26c232",
   "metadata": {
    "execution": {
     "iopub.execute_input": "2023-01-19T20:46:05.760152Z",
     "iopub.status.busy": "2023-01-19T20:46:05.759011Z",
     "iopub.status.idle": "2023-01-19T20:46:05.983973Z",
     "shell.execute_reply": "2023-01-19T20:46:05.982829Z"
    },
    "papermill": {
     "duration": 0.236836,
     "end_time": "2023-01-19T20:46:05.986583",
     "exception": false,
     "start_time": "2023-01-19T20:46:05.749747",
     "status": "completed"
    },
    "tags": []
   },
   "outputs": [],
   "source": [
    "X_train, X_test=X_train/255.0, X_test/255.0"
   ]
  },
  {
   "cell_type": "code",
   "execution_count": 14,
   "id": "d27a99f4",
   "metadata": {
    "execution": {
     "iopub.execute_input": "2023-01-19T20:46:06.004342Z",
     "iopub.status.busy": "2023-01-19T20:46:06.003928Z",
     "iopub.status.idle": "2023-01-19T20:46:06.975332Z",
     "shell.execute_reply": "2023-01-19T20:46:06.974061Z"
    },
    "papermill": {
     "duration": 0.983212,
     "end_time": "2023-01-19T20:46:06.977883",
     "exception": false,
     "start_time": "2023-01-19T20:46:05.994671",
     "status": "completed"
    },
    "tags": []
   },
   "outputs": [
    {
     "data": {
      "image/png": "[encoded data removed]",
      "text/plain": [
       "<Figure size 720x720 with 25 Axes>"
      ]
     },
     "metadata": {},
     "output_type": "display_data"
    }
   ],
   "source": [
    "plt.figure(figsize=(10,10))\n",
    "for i in range(25):\n",
    "    plt.subplot(5,5,i+1)\n",
    "    plt.xticks([])\n",
    "    plt.yticks([])\n",
    "    plt.grid(False)\n",
    "    plt.imshow(X_train[i], cmap=plt.cm.binary)\n",
    "    plt.xlabel(Y_train[i])\n",
    "plt.show()"
   ]
  },
  {
   "cell_type": "markdown",
   "id": "78ad4e72",
   "metadata": {
    "papermill": {
     "duration": 0.008405,
     "end_time": "2023-01-19T20:46:06.995852",
     "exception": false,
     "start_time": "2023-01-19T20:46:06.987447",
     "status": "completed"
    },
    "tags": []
   },
   "source": [
    "## Modeling"
   ]
  },
  {
   "cell_type": "code",
   "execution_count": 15,
   "id": "f7bb3004",
   "metadata": {
    "execution": {
     "iopub.execute_input": "2023-01-19T20:46:07.015109Z",
     "iopub.status.busy": "2023-01-19T20:46:07.014740Z",
     "iopub.status.idle": "2023-01-19T20:46:08.188176Z",
     "shell.execute_reply": "2023-01-19T20:46:08.187026Z"
    },
    "papermill": {
     "duration": 1.18597,
     "end_time": "2023-01-19T20:46:08.190633",
     "exception": false,
     "start_time": "2023-01-19T20:46:07.004663",
     "status": "completed"
    },
    "tags": []
   },
   "outputs": [
    {
     "name": "stderr",
     "output_type": "stream",
     "text": [
      "2023-01-19 20:46:08.115526: I tensorflow/core/common_runtime/process_util.cc:146] Creating new thread pool with default inter op setting: 2. Tune using inter_op_parallelism_threads for best performance.\n"
     ]
    }
   ],
   "source": [
    "model = tf.keras.Sequential([\n",
    "    tf.keras.layers.Flatten(input_shape=(28, 28)),\n",
    "    tf.keras.layers.Dense(128, activation='relu'),\n",
    "    tf.keras.layers.Dense(10)\n",
    "])"
   ]
  },
  {
   "cell_type": "code",
   "execution_count": 16,
   "id": "c049be9d",
   "metadata": {
    "execution": {
     "iopub.execute_input": "2023-01-19T20:46:08.211033Z",
     "iopub.status.busy": "2023-01-19T20:46:08.210031Z",
     "iopub.status.idle": "2023-01-19T20:46:08.223652Z",
     "shell.execute_reply": "2023-01-19T20:46:08.222669Z"
    },
    "papermill": {
     "duration": 0.026486,
     "end_time": "2023-01-19T20:46:08.226317",
     "exception": false,
     "start_time": "2023-01-19T20:46:08.199831",
     "status": "completed"
    },
    "tags": []
   },
   "outputs": [],
   "source": [
    "model.compile(optimizer='adam',\n",
    "              loss=tf.keras.losses.SparseCategoricalCrossentropy(from_logits=True),\n",
    "              metrics=['accuracy'])"
   ]
  },
  {
   "cell_type": "code",
   "execution_count": 17,
   "id": "1f6c61fb",
   "metadata": {
    "execution": {
     "iopub.execute_input": "2023-01-19T20:46:08.245772Z",
     "iopub.status.busy": "2023-01-19T20:46:08.245173Z",
     "iopub.status.idle": "2023-01-19T20:46:36.584767Z",
     "shell.execute_reply": "2023-01-19T20:46:36.583629Z"
    },
    "papermill": {
     "duration": 28.35196,
     "end_time": "2023-01-19T20:46:36.587169",
     "exception": false,
     "start_time": "2023-01-19T20:46:08.235209",
     "status": "completed"
    },
    "tags": []
   },
   "outputs": [
    {
     "name": "stderr",
     "output_type": "stream",
     "text": [
      "2023-01-19 20:46:08.546913: I tensorflow/compiler/mlir/mlir_graph_optimization_pass.cc:185] None of the MLIR Optimization Passes are enabled (registered 2)\n"
     ]
    },
    {
     "name": "stdout",
     "output_type": "stream",
     "text": [
      "Epoch 1/10\n",
      "1313/1313 [==============================] - 3s 2ms/step - loss: 0.2958 - accuracy: 0.9154\n",
      "Epoch 2/10\n",
      "1313/1313 [==============================] - 3s 2ms/step - loss: 0.1342 - accuracy: 0.9613\n",
      "Epoch 3/10\n",
      "1313/1313 [==============================] - 3s 2ms/step - loss: 0.0928 - accuracy: 0.9725\n",
      "Epoch 4/10\n",
      "1313/1313 [==============================] - 3s 2ms/step - loss: 0.0691 - accuracy: 0.9796\n",
      "Epoch 5/10\n",
      "1313/1313 [==============================] - 3s 2ms/step - loss: 0.0529 - accuracy: 0.9840\n",
      "Epoch 6/10\n",
      "1313/1313 [==============================] - 3s 2ms/step - loss: 0.0419 - accuracy: 0.9874\n",
      "Epoch 7/10\n",
      "1313/1313 [==============================] - 3s 2ms/step - loss: 0.0317 - accuracy: 0.9903\n",
      "Epoch 8/10\n",
      "1313/1313 [==============================] - 3s 2ms/step - loss: 0.0248 - accuracy: 0.9930\n",
      "Epoch 9/10\n",
      "1313/1313 [==============================] - 3s 2ms/step - loss: 0.0196 - accuracy: 0.9939\n",
      "Epoch 10/10\n",
      "1313/1313 [==============================] - 3s 3ms/step - loss: 0.0166 - accuracy: 0.9950\n"
     ]
    },
    {
     "data": {
      "text/plain": [
       "<keras.callbacks.History at 0x7f8cea5065d0>"
      ]
     },
     "execution_count": 17,
     "metadata": {},
     "output_type": "execute_result"
    }
   ],
   "source": [
    "model.fit(X_train, Y_train, epochs=10)"
   ]
  },
  {
   "cell_type": "code",
   "execution_count": 18,
   "id": "55ca235c",
   "metadata": {
    "execution": {
     "iopub.execute_input": "2023-01-19T20:46:36.677003Z",
     "iopub.status.busy": "2023-01-19T20:46:36.676592Z",
     "iopub.status.idle": "2023-01-19T20:46:36.700280Z",
     "shell.execute_reply": "2023-01-19T20:46:36.698609Z"
    },
    "papermill": {
     "duration": 0.07308,
     "end_time": "2023-01-19T20:46:36.704180",
     "exception": false,
     "start_time": "2023-01-19T20:46:36.631100",
     "status": "completed"
    },
    "tags": []
   },
   "outputs": [],
   "source": [
    "probability_model = tf.keras.Sequential([model, \n",
    "                                         tf.keras.layers.Softmax()])"
   ]
  },
  {
   "cell_type": "code",
   "execution_count": 19,
   "id": "b1f702b1",
   "metadata": {
    "execution": {
     "iopub.execute_input": "2023-01-19T20:46:36.796047Z",
     "iopub.status.busy": "2023-01-19T20:46:36.795566Z",
     "iopub.status.idle": "2023-01-19T20:46:38.219188Z",
     "shell.execute_reply": "2023-01-19T20:46:38.218076Z"
    },
    "papermill": {
     "duration": 1.47333,
     "end_time": "2023-01-19T20:46:38.222040",
     "exception": false,
     "start_time": "2023-01-19T20:46:36.748710",
     "status": "completed"
    },
    "tags": []
   },
   "outputs": [],
   "source": [
    "Y_pred = probability_model.predict(X_test)"
   ]
  },
  {
   "cell_type": "code",
   "execution_count": 20,
   "id": "2e0748a6",
   "metadata": {
    "execution": {
     "iopub.execute_input": "2023-01-19T20:46:38.310100Z",
     "iopub.status.busy": "2023-01-19T20:46:38.309722Z",
     "iopub.status.idle": "2023-01-19T20:46:38.317862Z",
     "shell.execute_reply": "2023-01-19T20:46:38.316689Z"
    },
    "papermill": {
     "duration": 0.055966,
     "end_time": "2023-01-19T20:46:38.320230",
     "exception": false,
     "start_time": "2023-01-19T20:46:38.264264",
     "status": "completed"
    },
    "tags": []
   },
   "outputs": [
    {
     "data": {
      "text/plain": [
       "array([[1.8790854e-11, 5.8663025e-18, 1.0000000e+00, ..., 4.0325192e-09,\n",
       "        1.9317613e-11, 5.6711404e-14],\n",
       "       [1.0000000e+00, 6.5767174e-18, 6.3791183e-10, ..., 1.7384864e-11,\n",
       "        2.4974665e-09, 6.6181998e-16],\n",
       "       [5.8258637e-12, 6.4406240e-06, 7.0082001e-06, ..., 1.4643667e-05,\n",
       "        7.4099073e-05, 9.9919873e-01],\n",
       "       ...,\n",
       "       [2.0466774e-13, 9.0006160e-13, 4.3770287e-10, ..., 2.3011630e-13,\n",
       "        3.8878643e-08, 2.7112941e-07],\n",
       "       [2.3229153e-11, 1.2297164e-14, 1.4431875e-10, ..., 1.1243271e-07,\n",
       "        1.6061067e-09, 9.9785066e-01],\n",
       "       [1.2204732e-13, 1.3961624e-14, 9.9999988e-01, ..., 3.9376796e-12,\n",
       "        5.4188220e-11, 1.4039051e-12]], dtype=float32)"
      ]
     },
     "execution_count": 20,
     "metadata": {},
     "output_type": "execute_result"
    }
   ],
   "source": [
    "Y_pred"
   ]
  },
  {
   "cell_type": "code",
   "execution_count": 21,
   "id": "156a8fe0",
   "metadata": {
    "execution": {
     "iopub.execute_input": "2023-01-19T20:46:38.410325Z",
     "iopub.status.busy": "2023-01-19T20:46:38.409871Z",
     "iopub.status.idle": "2023-01-19T20:46:38.415292Z",
     "shell.execute_reply": "2023-01-19T20:46:38.414472Z"
    },
    "papermill": {
     "duration": 0.053427,
     "end_time": "2023-01-19T20:46:38.417491",
     "exception": false,
     "start_time": "2023-01-19T20:46:38.364064",
     "status": "completed"
    },
    "tags": []
   },
   "outputs": [],
   "source": [
    "Y_pred=np.argmax(Y_pred,axis=1)"
   ]
  },
  {
   "cell_type": "code",
   "execution_count": 22,
   "id": "29861ae4",
   "metadata": {
    "execution": {
     "iopub.execute_input": "2023-01-19T20:46:38.505043Z",
     "iopub.status.busy": "2023-01-19T20:46:38.503720Z",
     "iopub.status.idle": "2023-01-19T20:46:38.511931Z",
     "shell.execute_reply": "2023-01-19T20:46:38.510822Z"
    },
    "papermill": {
     "duration": 0.054818,
     "end_time": "2023-01-19T20:46:38.514367",
     "exception": false,
     "start_time": "2023-01-19T20:46:38.459549",
     "status": "completed"
    },
    "tags": []
   },
   "outputs": [
    {
     "data": {
      "text/plain": [
       "array([2, 0, 9, ..., 3, 9, 2])"
      ]
     },
     "execution_count": 22,
     "metadata": {},
     "output_type": "execute_result"
    }
   ],
   "source": [
    "Y_pred"
   ]
  },
  {
   "cell_type": "code",
   "execution_count": 23,
   "id": "93634f35",
   "metadata": {
    "execution": {
     "iopub.execute_input": "2023-01-19T20:46:38.603688Z",
     "iopub.status.busy": "2023-01-19T20:46:38.602289Z",
     "iopub.status.idle": "2023-01-19T20:46:38.611131Z",
     "shell.execute_reply": "2023-01-19T20:46:38.609802Z"
    },
    "papermill": {
     "duration": 0.056768,
     "end_time": "2023-01-19T20:46:38.613952",
     "exception": false,
     "start_time": "2023-01-19T20:46:38.557184",
     "status": "completed"
    },
    "tags": []
   },
   "outputs": [
    {
     "data": {
      "text/plain": [
       "(28000,)"
      ]
     },
     "execution_count": 23,
     "metadata": {},
     "output_type": "execute_result"
    }
   ],
   "source": [
    "Y_pred.shape"
   ]
  },
  {
   "cell_type": "markdown",
   "id": "5d9ddd20",
   "metadata": {
    "papermill": {
     "duration": 0.042577,
     "end_time": "2023-01-19T20:46:38.701599",
     "exception": false,
     "start_time": "2023-01-19T20:46:38.659022",
     "status": "completed"
    },
    "tags": []
   },
   "source": [
    "## Submission"
   ]
  },
  {
   "cell_type": "code",
   "execution_count": 24,
   "id": "a5adf4d2",
   "metadata": {
    "execution": {
     "iopub.execute_input": "2023-01-19T20:46:38.794157Z",
     "iopub.status.busy": "2023-01-19T20:46:38.792313Z",
     "iopub.status.idle": "2023-01-19T20:46:38.833560Z",
     "shell.execute_reply": "2023-01-19T20:46:38.832332Z"
    },
    "papermill": {
     "duration": 0.089259,
     "end_time": "2023-01-19T20:46:38.836397",
     "exception": false,
     "start_time": "2023-01-19T20:46:38.747138",
     "status": "completed"
    },
    "tags": []
   },
   "outputs": [],
   "source": [
    "output=pd.DataFrame({'ImageId':test.index+1,'Label':Y_pred})\n",
    "output.to_csv('submission.csv',index=False)"
   ]
  }
 ],
 "metadata": {
  "kernelspec": {
   "display_name": "Python 3",
   "language": "python",
   "name": "python3"
  },
  "language_info": {
   "codemirror_mode": {
    "name": "ipython",
    "version": 3
   },
   "file_extension": ".py",
   "mimetype": "text/x-python",
   "name": "python",
   "nbconvert_exporter": "python",
   "pygments_lexer": "ipython3",
   "version": "3.7.12"
  },
  "papermill": {
   "default_parameters": {},
   "duration": 59.30047,
   "end_time": "2023-01-19T20:46:42.196400",
   "environment_variables": {},
   "exception": null,
   "input_path": "__notebook__.ipynb",
   "output_path": "__notebook__.ipynb",
   "parameters": {},
   "start_time": "2023-01-19T20:45:42.895930",
   "version": "2.3.4"
  }
 },
 "nbformat": 4,
 "nbformat_minor": 5
}
